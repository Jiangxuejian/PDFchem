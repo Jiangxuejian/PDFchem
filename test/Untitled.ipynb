{
 "cells": [
  {
   "cell_type": "code",
   "execution_count": 1,
   "id": "7fbbc94d",
   "metadata": {},
   "outputs": [
    {
     "name": "stdout",
     "output_type": "stream",
     "text": [
      "\u001b[0;32m14:56:11 2023-06-12 > \u001b[0m Looping through 2501 Simulations\n",
      "Finished!\n"
     ]
    },
    {
     "name": "stdout",
     "output_type": "stream",
     "text": [
      "Timer unit: 0.001 s\n",
      "\n",
      "Total time: 15.4669 s\n",
      "File: /mnt/c/Users/xjjia/OneDrive - zhejianglab.edu.cn/works/22.PDF_CHEM/PDFchem/test/pdfchem_algorithm_m.py\n",
      "Function: main at line 100\n",
      "\n",
      "Line #      Hits         Time  Per Hit   % Time  Line Contents\n",
      "==============================================================\n",
      "   100                                           def main(avpdf_file='', output_file='output_m.dat'):\n",
      "   101                                           \n",
      "   102                                               # Call constants\n",
      "   103                                           \n",
      "   104                                               # Av,obs - PDF function\n",
      "   105         1          0.0      0.0      0.0      def pdf(x, s, m):\n",
      "   106                                                   return (1.0 / (s * math.sqrt(2.0 * pi))) * math.exp(-(math.log(x) - m) ** 2 / (2.0 * s ** 2))\n",
      "   107                                           \n",
      "   108                                               # Make Av-PDF\n",
      "   109         1          0.0      0.0      0.0      def makepdf():\n",
      "   110                                                   m = math.log(av_bar) - s ** 2 / 2.0\n",
      "   111                                                   avtot = 500\n",
      "   112                                                   avin = [0] * (avtot + 1)\n",
      "   113                                                   pdfin = [0] * (avtot + 1)\n",
      "   114                                                   with open('avpdf.dat', 'w') as f:\n",
      "   115                                                       for i in range(avtot + 1):\n",
      "   116                                                           lav = -2.0 + 4.0 * float(i) / float(avtot + 1)\n",
      "   117                                                           avin[i] = 10.0 ** lav\n",
      "   118                                                           pdfin[i] = pdf(float(avin[i]), s, m)\n",
      "   119                                                           if pdfin[i] < 1e-10:\n",
      "   120                                                               pdfin[i] = 1e-10\n",
      "   121                                                           f.write(str(avin[i]) + ' ' + str(pdfin[i]) + '\\n')\n",
      "   122                                                   return avin,pdfin,avtot\n",
      "   123                                           \n",
      "   124                                               # Read inputted Av-PDF\n",
      "   125         1          0.0      0.0      0.0      def readpdf():\n",
      "   126                                                   f = np.loadtxt(avpdf_file)\n",
      "   127                                                   avtot = len(f)\n",
      "   128                                                   avin = f[:,0]\n",
      "   129                                                   pdfin = f[:,1]\n",
      "   130                                                   avin = [Decimal('10') ** Decimal(x) for x in avin] # Issue: some values too large.\n",
      "   131                                                   pdfin = [10.0 ** x for x in pdfin]\n",
      "   132                                           \n",
      "   133                                                   return avin,pdfin,avtot\n",
      "   134                                           \n",
      "   135                                               # Make prefix for all inputs\n",
      "   136         1          0.0      0.0      0.0      def makeprefix():\n",
      "   137                                                   num = [str(i).zfill(2) for i in range(61)]\n",
      "   138                                                   pref = []\n",
      "   139                                                   for i in range(41):\n",
      "   140                                                       for j in range(61):\n",
      "   141                                                           pref.append(\"zcr\" + num[i] + \"_uv\" + num[j])\n",
      "   142                                                   return pref\n",
      "   143                                           \n",
      "   144                                               # Input parameters\n",
      "   145         1          3.4      3.4      0.0      av_bar, s, metallicity = np.loadtxt('./pdfchem.params')\n",
      "   146                                           \n",
      "   147         1          0.0      0.0      0.0      if metallicity == 0.1:\n",
      "   148                                                   directory = 'Z0p1/'\n",
      "   149         1          0.0      0.0      0.0      elif metallicity == 0.5:\n",
      "   150                                                   directory = 'Z0p5/'\n",
      "   151         1          0.0      0.0      0.0      elif metallicity == 1.0:\n",
      "   152         1          0.0      0.0      0.0          directory = 'Z1p0/'\n",
      "   153                                               elif metallicity == 2.0:\n",
      "   154                                                   directory = 'Z2p0/'\n",
      "   155                                           \n",
      "   156         1          0.6      0.6      0.0      pref = makeprefix()\n",
      "   157                                               #hdf5_file = h5py.File('models/'+directory[:4]+'.hdf5', 'r')\n",
      "   158         1          0.0      0.0      0.0      hdf5_file = f'models/{directory[:4]}.hdf5'\n",
      "   159                                           \n",
      "   160                                               # Check if user has an input AV-PDF file. If not, call makepdf to create a simulated PDF.\n",
      "   161         1          0.0      0.0      0.0      if os.path.isfile(avpdf_file):\n",
      "   162                                                   avin, pdfin,avtot = readpdf()\n",
      "   163                                               else:\n",
      "   164         1          6.4      6.4      0.0          avin, pdfin,avtot = makepdf()\n",
      "   165                                           \n",
      "   166                                           \n",
      "   167                                           \n",
      "   168         1          0.0      0.0      0.0      screen_time = datetime.datetime.now().strftime(\"\\033[0;32m%H:%M:%S %Y-%m-%d > \\33[0m\")\n",
      "   169         1          1.0      1.0      0.0      print(f\"\\r{screen_time} Looping through {2501} Simulations\", end='', flush=True)\n",
      "   170                                           \n",
      "   171                                           \n",
      "   172                                               #output_strarray = np.empty((5), dtype='str')\n",
      "   173                                               #output_strarray = [['']] * 5\n",
      "   174                                               # for ipref in range(0, 2501): # No. PDR simulations\n",
      "   175                                           \n",
      "   176         1          0.0      0.0      0.0      num_iterations = 2501\n",
      "   177                                               # Create a shared list for output_strarray\n",
      "   178                                           \n",
      "   179         1         16.1     16.1      0.1      with Manager() as manager:\n",
      "   180         1          3.9      3.9      0.0          output_strarray = manager.list([[''] for _ in range(num_iterations)])\n",
      "   181         1         66.2     66.2      0.4          with Pool() as pool:\n",
      "   182         1      15088.7  15088.7     97.6              pool.starmap(iteration, [(ipref, pref, hdf5_file, avtot, avin, pdfin, output_strarray) for ipref in range(num_iterations)])\n",
      "   183         1        250.8    250.8      1.6          output_strarray = list(output_strarray)\n",
      "   184                                           \n",
      "   185         1          2.3      2.3      0.0      outfile = open(output_file, 'w')\n",
      "   186      2501          0.4      0.0      0.0      for sublist in output_strarray:\n",
      "   187      2501         26.3      0.0      0.2          outfile.write(''.join(map(str, sublist)))\n",
      "   188         1          0.8      0.8      0.0      outfile.close()\n",
      "   189                                               \n",
      "   190                                               #hdf5_file.close()\n",
      "   191                                           \n",
      "   192         1          0.1      0.1      0.0      print('\\nFinished!')"
     ]
    }
   ],
   "source": [
    "import pdfchem_algorithm_m\n",
    "%load_ext line_profiler\n",
    "%lprun -u 1e-3 -f pdfchem_algorithm_m.main pdfchem_algorithm_m.main()"
   ]
  }
 ],
 "metadata": {
  "kernelspec": {
   "display_name": "Python 3.9.12 ('base')",
   "language": "python",
   "name": "python3"
  },
  "language_info": {
   "codemirror_mode": {
    "name": "ipython",
    "version": 3
   },
   "file_extension": ".py",
   "mimetype": "text/x-python",
   "name": "python",
   "nbconvert_exporter": "python",
   "pygments_lexer": "ipython3",
   "version": "3.9.12"
  },
  "vscode": {
   "interpreter": {
    "hash": "4306d418e01b18465b7af2df902a100a690006f6ad204f25d2212828b2ae0ead"
   }
  }
 },
 "nbformat": 4,
 "nbformat_minor": 5
}
