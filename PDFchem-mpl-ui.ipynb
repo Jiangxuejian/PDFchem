{
 "cells": [
  {
   "cell_type": "code",
   "execution_count": 7,
   "metadata": {},
   "outputs": [],
   "source": [
    "import os, glob, shutil, datetime\n",
    "import numpy as np \n",
    "import math, matplotlib, time\n",
    "import matplotlib.pyplot as plt\n",
    "import matplotlib.mlab as ml\n",
    "from matplotlib.colors import ListedColormap, LinearSegmentedColormap\n",
    "from matplotlib.offsetbox import AnchoredText\n",
    "from scipy.interpolate import griddata\n",
    "import pandas as pd\n",
    "import ternary\n",
    "import matplotlib.path as mpath\n",
    "star = mpath.Path.unit_regular_star(6)\n",
    "matplotlib.rc('font',size=16)\n",
    "# %matplotlib inline\n",
    "import warnings\n",
    "warnings.filterwarnings('ignore')\n",
    "import sys\n",
    "sys.path.append('.')\n",
    "\n",
    "import pdfchem\n",
    "import mercury as mr\n",
    "\n",
    "def screen_time():\n",
    "    return datetime.datetime.now().strftime(\"\\033[0;32m%H:%M:%S %Y-%m-%d > \\33[0m\")"
   ]
  },
  {
   "cell_type": "markdown",
   "metadata": {},
   "source": []
  },
  {
   "cell_type": "code",
   "execution_count": 8,
   "metadata": {},
   "outputs": [
    {
     "data": {
      "application/mercury+json": {
       "allow_download": true,
       "allow_share": true,
       "code_uid": "App.0.50.110.1-rand36fbce20",
       "continuous_update": true,
       "description": "interactive PDF analysis",
       "full_screen": true,
       "model_id": "mercury-app",
       "notify": "{}",
       "output": "app",
       "schedule": "",
       "show_code": false,
       "show_prompt": false,
       "show_sidebar": true,
       "static_notebook": false,
       "stop_on_error": false,
       "title": "PDFchem 3.0 beta 3 - Matplotlib",
       "widget": "App"
      },
      "text/html": [
       "<h3>Mercury Application</h3><small>This output won't appear in the web app.</small>"
      ],
      "text/plain": [
       "mercury.App"
      ]
     },
     "metadata": {},
     "output_type": "display_data"
    }
   ],
   "source": [
    "app = mr.App(title=\"PDFchem 3.0 beta 3 - Matplotlib\", description=\"interactive PDF analysis\")\n",
    "max_workers = 1\n",
    "mr_output_dir = mr.OutputDir()"
   ]
  },
  {
   "cell_type": "markdown",
   "metadata": {},
   "source": []
  },
  {
   "cell_type": "code",
   "execution_count": 9,
   "metadata": {},
   "outputs": [],
   "source": [
    "# Hello in PDFchem! 👋"
   ]
  },
  {
   "cell_type": "code",
   "execution_count": 38,
   "metadata": {},
   "outputs": [
    {
     "data": {
      "application/mercury+json": {
       "code_uid": "Checkbox.0.50.70.3.flag-rand7a453880",
       "disabled": false,
       "hidden": false,
       "label": "Switch on to use your PDF files",
       "model_id": "70b638b757644555b5ab43296994a98a",
       "url_key": "flag",
       "value": false,
       "widget": "Checkbox"
      },
      "application/vnd.jupyter.widget-view+json": {
       "model_id": "70b638b757644555b5ab43296994a98a",
       "version_major": 2,
       "version_minor": 0
      },
      "text/plain": [
       "mercury.Checkbox"
      ]
     },
     "metadata": {},
     "output_type": "display_data"
    },
    {
     "data": {
      "application/mercury+json": {
       "choices": [
        "0.1",
        "0.5",
        "1",
        "2"
       ],
       "code_uid": "Select.0.50.104.5-randed86e441",
       "disabled": false,
       "hidden": false,
       "label": "Metallicity:",
       "model_id": "e77d4e7dae4c4ff295561b90e10e4661",
       "url_key": "",
       "value": "1",
       "widget": "Select"
      },
      "application/vnd.jupyter.widget-view+json": {
       "model_id": "e77d4e7dae4c4ff295561b90e10e4661",
       "version_major": 2,
       "version_minor": 0
      },
      "text/plain": [
       "mercury.Select"
      ]
     },
     "metadata": {},
     "output_type": "display_data"
    },
    {
     "data": {
      "application/mercury+json": {
       "code_uid": "Numeric.0.50.101.6-randa21be258",
       "disabled": false,
       "hidden": false,
       "label": "Mean: Av_bar",
       "max": 20,
       "min": 0.6,
       "model_id": "73c26d05778a4d2fb8415e8a3599f3a4",
       "step": 0.2,
       "url_key": "",
       "value": 4,
       "widget": "Numeric"
      },
      "application/vnd.jupyter.widget-view+json": {
       "model_id": "73c26d05778a4d2fb8415e8a3599f3a4",
       "version_major": 2,
       "version_minor": 0
      },
      "text/plain": [
       "mercury.Numeric"
      ]
     },
     "metadata": {},
     "output_type": "display_data"
    },
    {
     "data": {
      "application/mercury+json": {
       "code_uid": "Numeric.0.50.101.7-rand57eb78fe",
       "disabled": false,
       "hidden": false,
       "label": "Width: Sigma",
       "max": 1.02,
       "min": 0.12,
       "model_id": "59978cc8cd6849598fcbbf3e589c99d8",
       "step": 0.1,
       "url_key": "",
       "value": 0.32,
       "widget": "Numeric"
      },
      "application/vnd.jupyter.widget-view+json": {
       "model_id": "59978cc8cd6849598fcbbf3e589c99d8",
       "version_major": 2,
       "version_minor": 0
      },
      "text/plain": [
       "mercury.Numeric"
      ]
     },
     "metadata": {},
     "output_type": "display_data"
    },
    {
     "data": {
      "application/mercury+json": {
       "code_uid": "Button.0.50.58.9-randbf3b195f",
       "disabled": false,
       "hidden": false,
       "label": "Run model PDF",
       "model_id": "948fd61f5996487cb72adcd2307e254c",
       "style": "primary",
       "value": false,
       "widget": "Button"
      },
      "application/vnd.jupyter.widget-view+json": {
       "model_id": "948fd61f5996487cb72adcd2307e254c",
       "version_major": 2,
       "version_minor": 0
      },
      "text/plain": [
       "mercury.Button"
      ]
     },
     "metadata": {},
     "output_type": "display_data"
    }
   ],
   "source": [
    "plot_input_PDF=False\n",
    "\n",
    "PDF_input_flag = mr.Checkbox(value=False, label=\"Switch on to use your PDF files\", url_key=\"flag\")\n",
    "if not PDF_input_flag.value:\n",
    "    metallicity = mr.Select(value=\"1\", choices=[\"0.1\", \"0.5\", \"1\", \"2\"], label='Metallicity:')\n",
    "    _mean = mr.Numeric(value=4, min=0.6, max=20, step=0.2, label=r'Mean: Av_bar')\n",
    "    _width = mr.Numeric(value=0.32, min=0.12, max=1.02, step=0.1, label='Width: Sigma')\n",
    "    output_file = 'output.dat'\n",
    "    run_model_button = mr.Button(label=\"Run model PDF\", style=\"primary\")\n",
    "\n",
    "if PDF_input_flag.value:\n",
    "    plot_input_PDF=True\n",
    "    multi_PDF_flag = mr.Checkbox(value=False, label=\"Switch on to run multiple Av-PDF files\", url_key=\"multi PDF flag\")\n",
    "    if multi_PDF_flag.value:\n",
    "        #PDF_path = my_PDF.filepath\n",
    "        PDF_path = mr.Text(value=\"./avpdf_input/\", label=\"Enter a folder containing your Av-PDF files\", rows=1)\n",
    "        avpdf_files = sorted(glob.glob(os.path.join(PDF_path.value,'*')))\n",
    "        mr.Md(f\"## WARNING: will run PDFchem with all files in `{PDF_path.value}`!\")\n",
    "        mr.Md(f\"## This could be very slow if you have many files!\")\n",
    "        metallicity = mr.Select(value=\"1\", choices=[\"0.1\", \"0.5\", \"1\", \"2\"], label='Metallicity:')\n",
    "        run_multi_button = mr.Button(label=\"Run multiple PDF\", style=\"primary\")\n",
    "        my_PDf = avpdf_files[0]\n",
    "    if not multi_PDF_flag.value :\n",
    "        my_PDF = mr.File(label=\"Please upload an Av_PDF file\", max_file_size=\"100MB\")\n",
    "        metallicity = mr.Select(value=\"1\", choices=[\"0.1\", \"0.5\", \"1\", \"2\"], label='Metallicity:')\n",
    "        run_single_button = mr.Button(label=\"Run a single PDF\", style=\"primary\")\n",
    "        "
   ]
  },
  {
   "cell_type": "code",
   "execution_count": 43,
   "metadata": {},
   "outputs": [
    {
     "data": {
      "image/png": "[encoded data removed]",
      "text/plain": [
       "<Figure size 500x300 with 1 Axes>"
      ]
     },
     "metadata": {},
     "output_type": "display_data"
    }
   ],
   "source": [
    "av_diff, pdf_diff, avtot_diff = pdfchem.makepdf(1.4, 0.42)\n",
    "av_sf, pdf_sf, avtot_sf = pdfchem.makepdf(7, 0.32)\n",
    "fig, ax = plt.subplots(figsize=(5,3))\n",
    "ax.loglog(av_diff, pdf_diff, '--', lw=1, color='steelblue', label='Quiescent')\n",
    "ax.loglog(av_sf, pdf_sf, '-.', lw=1, color='forestgreen', label = 'Star-forming')\n",
    "ax.legend(fontsize=9, ncols=2, loc= 'upper center')\n",
    "ax.set_xlim(0.1,300)\n",
    "ax.set_ylim(1e-3, 5)\n",
    "ax.set_xlabel(r'$A_{\\rm V}$ [mag]')\n",
    "ax.set_ylabel(r'$p$')\n",
    "if not PDF_input_flag.value:\n",
    "    av_bar, s, metallicity = _mean.value, _width.value, float(metallicity.value)\n",
    "    av_m, pdf_m, avtot = pdfchem.makepdf(av_bar, s)\n",
    "    ax.loglog(av_m, pdf_m, '-', lw=3, color='darkorange')\n",
    "    ax.set_title(f'mean={av_bar:3.1f}, width={s:4.2f}, Z={metallicity:3.1f}',fontsize=18)\n",
    "    #ax.grid()\n",
    "elif my_PDF.filename:\n",
    "    try:\n",
    "        d = np.genfromtxt(my_PDF.filepath)  # user specified PDF\n",
    "        av = d[:,0]; pdf = d[:,1]\n",
    "        ax.loglog(av,pdf,'-',lw=3)\n",
    "    except:\n",
    "        if my_PDF.filename[-4:] == 'fits':\n",
    "            av, pdf = pdfchem.NH_fits_to_pdf(my_PDF.filepath)\n",
    "            ax.loglog(av,pdf,'-',lw=3)"
   ]
  },
  {
   "cell_type": "code",
   "execution_count": 28,
   "metadata": {},
   "outputs": [
    {
     "data": {
      "application/mercury+json": {
       "choices": [
        "Tgas",
        "CII",
        "CI",
        "CO",
        "OI",
        "HI",
        "H2",
        "HI_H2_ratio",
        "OHp",
        "H2Op",
        "OH",
        "CH",
        "HCOp",
        "Tcii",
        "Tci10",
        "Tci21",
        "Tco10",
        "Tco21",
        "Tco32",
        "Tco43",
        "Tco54",
        "Tco65",
        "Tco76",
        "Tco87",
        "Tco98",
        "Tco109"
       ],
       "code_uid": "Select.0.50.104.1-rand0007c2b2",
       "disabled": false,
       "hidden": false,
       "label": "Select a specie to plot the result.",
       "model_id": "0d7cf7f07bfd493585714e8eab91c555",
       "url_key": "",
       "value": "Tco10",
       "widget": "Select"
      },
      "application/vnd.jupyter.widget-view+json": {
       "model_id": "0d7cf7f07bfd493585714e8eab91c555",
       "version_major": 2,
       "version_minor": 0
      },
      "text/plain": [
       "mercury.Select"
      ]
     },
     "metadata": {},
     "output_type": "display_data"
    }
   ],
   "source": [
    "plot_species = mr.Select(value=\"Tco10\", choices=[\n",
    "\"Tgas\", \"C+\", \"C\",  \"CO\", \"OI\",  \"HI\",  \"H2\", 'HI_H2_ratio', \"OHp\",  \"H2Op\",  \"OH\", \"CH\",  \"HCO+\", \"Tcii\",  \"Tci10\",  \"Tci21\", \"Tco10\", \"Tco21\",  \"Tco32\", \"Tco43\",  \"Tco54\",  \"Tco65\", \"Tco76\",  \"Tco87\",  \"Tco98\", \"Tco109\" \n",
    "], label=\"Select a specie to plot the result.\")"
   ]
  },
  {
   "cell_type": "code",
   "execution_count": 29,
   "metadata": {},
   "outputs": [
    {
     "data": {
      "application/mercury+json": {
       "code_uid": "Checkbox.0.50.70.1.flag-randbc1b61bd",
       "disabled": false,
       "hidden": false,
       "label": "Switch on to enter a reference value",
       "model_id": "eefb65f4e41d474286aa9c3cf23f7296",
       "url_key": "flag",
       "value": false,
       "widget": "Checkbox"
      },
      "application/vnd.jupyter.widget-view+json": {
       "model_id": "eefb65f4e41d474286aa9c3cf23f7296",
       "version_major": 2,
       "version_minor": 0
      },
      "text/plain": [
       "mercury.Checkbox"
      ]
     },
     "metadata": {},
     "output_type": "display_data"
    }
   ],
   "source": [
    "ref_value_flag = mr.Checkbox(value=False, label=\"Switch on to enter a reference value\", url_key=\"flag\")\n",
    "if ref_value_flag.value:\n",
    "    ref_value = mr.Numeric(value=1, min=0, max=1e12, label=\"Enter a reference value to show on the result figure\")"
   ]
  },
  {
   "cell_type": "code",
   "execution_count": 30,
   "metadata": {},
   "outputs": [
    {
     "data": {
      "application/mercury+json": {
       "code_uid": "Button.0.50.58.1-rand821387eb",
       "disabled": false,
       "hidden": false,
       "label": "Show collective figures",
       "model_id": "12832503da624bbe8d1acc0b46ad0878",
       "style": "primary",
       "value": false,
       "widget": "Button"
      },
      "application/vnd.jupyter.widget-view+json": {
       "model_id": "12832503da624bbe8d1acc0b46ad0878",
       "version_major": 2,
       "version_minor": 0
      },
      "text/plain": [
       "mercury.Button"
      ]
     },
     "metadata": {},
     "output_type": "display_data"
    },
    {
     "data": {
      "application/mercury+json": {
       "code_uid": "Button.0.50.58.2-rand0611be10",
       "disabled": false,
       "hidden": false,
       "label": "Show carbon cycle figures",
       "model_id": "05c7fb8e82af4375b33de132e0c990c3",
       "style": "primary",
       "value": false,
       "widget": "Button"
      },
      "application/vnd.jupyter.widget-view+json": {
       "model_id": "05c7fb8e82af4375b33de132e0c990c3",
       "version_major": 2,
       "version_minor": 0
      },
      "text/plain": [
       "mercury.Button"
      ]
     },
     "metadata": {},
     "output_type": "display_data"
    }
   ],
   "source": [
    "make_collective_figs_button = mr.Button(label=\"Show collective figures\", style=\"primary\")\n",
    "make_carbon_figs_button = mr.Button(label=\"Show carbon cycle figures\", style=\"primary\")"
   ]
  },
  {
   "cell_type": "code",
   "execution_count": 31,
   "metadata": {},
   "outputs": [],
   "source": [
    "#colour map setup\n",
    "cmap = plt.cm.get_cmap(\"viridis\")\n",
    "\n",
    "my_cmap = cmap(np.arange(cmap.N))\n",
    "alphas = np.linspace(0.6,0.6,cmap.N)\n",
    "BG = np.asarray([1.,1.,1.])\n",
    "for i in range(cmap.N):\n",
    "    my_cmap[i,:-1] = my_cmap[i,:-1] * alphas[i] + BG*(1.-alphas[i])\n",
    "my_cmap = ListedColormap(my_cmap)\n",
    "cmap=my_cmap"
   ]
  },
  {
   "cell_type": "code",
   "execution_count": 45,
   "metadata": {},
   "outputs": [],
   "source": [
    "if not PDF_input_flag.value:\n",
    "    writeout = np.column_stack((_mean.value, _width.value, metallicity))\n",
    "    np.savetxt('pdfchem.params',writeout,delimiter=' ',fmt='%1.4e')\n",
    "\n",
    "def process_file(avpdf_file):\n",
    "    file_index =  avpdf_file.split('/')[-1].split('.')[0][-6:]\n",
    "    pdfchem_output_file = os.path.join(f'./pdfchem_output', f'output{file_index}.dat')\n",
    "    pdfchem.main(avpdf_file, pdfchem_output_file)\n",
    "    shutil.copy(pdfchem_output_file, mr_output_dir.path)\n",
    "    return\n",
    "\n",
    "startTime = time.time()\n",
    "\n",
    "if run_model_button.clicked:\n",
    "    pdfchem.main()\n",
    "    shutil.copy('output.dat', mr_output_dir.path) \n",
    "    executionTime = round(time.time() - startTime, 1)\n",
    "    print(f'Execution time: {executionTime} seconds.')\n",
    "    print(f\"Output data file is available for download.\")\n",
    "else:\n",
    "    try: \n",
    "        if run_single_button.clicked:    \n",
    "            pdfchem.main(my_PDF.filepath)\n",
    "            shutil.copy('output.dat', mr_output_dir.path) \n",
    "            executionTime = round(time.time() - startTime, 1)\n",
    "            print(f'Execution time: {executionTime} seconds.')\n",
    "            print(f\"Output data file is available for download.\")\n",
    "    except: pass\n",
    "    try: \n",
    "        if run_multi_button.clicked:  \n",
    "            print(f'{screen_time()} \\033[0;31mPDFchem \\33[0m started.')\n",
    "            if not os.path.exists('./pdfchem_output'): os.mkdir('./pdfchem_output')\n",
    "            for avpdf_file in avpdf_files:\n",
    "                process_file(avpdf_file)\n",
    "                print(f'{screen_time()} \\033[0;31m{avpdf_file}\\33[0m completed')\n",
    "            # output_file = sorted(glob.glob(os.path.join('pdfchem_output','*.dat')))[0]\n",
    "            executionTime = round(time.time() - startTime, 1)\n",
    "            print(f'Execution time: {executionTime} seconds.')\n",
    "            print(f'Output data files are saved to folder: \"pdfchem_output\".')\n",
    "    except: pass\n",
    "\n",
    "# 45    seconds with i7-1165G7 @ 2.80GHz with Multiprocessing ON\n",
    "# 15.7  seconds with AMD Ryzen 9 5900HX\n",
    "# 8.1   seconds with M1 pro\n",
    "# 3.3   seconds with i9-12900K\n",
    "# 2.5   seconds with Xeon(R) Platinum 8358"
   ]
  },
  {
   "cell_type": "code",
   "execution_count": 33,
   "metadata": {},
   "outputs": [],
   "source": [
    "# read the output from the algorithm\n",
    "title = r'PDFchem result'"
   ]
  },
  {
   "cell_type": "code",
   "execution_count": 34,
   "metadata": {},
   "outputs": [],
   "source": [
    "# mr.Md(f\"\"\"\n",
    "# ## Sequence of species\n",
    "# |||||||||||\n",
    "# |--------|---------|----------|---------|---------|-------|--------|---------|---------|-------|\n",
    "# | 1: H3+ | 2: He+  | 3: Mg    | 4: H2+  | 5: CH5+ | 6: O2 |7: CH4+ |8: O+    |9: OH+   |10: Mg+|\n",
    "# |11: C+  |12: CH4  |13: H2O+  |14: H3O+ |15: CO+  |21: CH |22: CH3 |23: HCO+ |24: CH2+ |25: C  | \n",
    "# |26: He  |27: CH+  |28: CO    |29: OH   |30: O    |31: H2 |32: H   |33: e-   |         |       |\n",
    "# ## Results will be placed in `./pdfchem_output`\n",
    "# \"\"\")"
   ]
  },
  {
   "cell_type": "code",
   "execution_count": 35,
   "metadata": {},
   "outputs": [],
   "source": [
    "#CHEMISTRY RESULTS\n",
    "try:\n",
    "    d = np.genfromtxt(output_file)\n",
    "\n",
    "    #UV radiation (Draine); cosmic-ray ionization rate (s-1); metallicity (Zsolar)\n",
    "    UV = d[:,0]; CR = d[:,1]; Z = d[:,2]\n",
    "    #Gas temperature\n",
    "    Tgas = d[:,3]\n",
    "    #Abundances of CII; CI; CO; OI; HI; H2; OH+; H2O+; OH; CH; HCO+\n",
    "    Cp = d[:,14]; C = d[:,28]; CO = d[:,31]\n",
    "    OI = d[:,33]; HI = d[:,35]; H2 = d[:,34]\n",
    "    OHp = d[:,12]; H2Op = d[:,16]; OH = d[:,32]\n",
    "    CH = d[:,24]; HCOp = d[:,26]\n",
    "    HI_H2_ratio = HI/H2/2\n",
    "    #the above are some of the available species\n",
    "    #follow the sequence of species by adding 3 to plot any other available\n",
    "\n",
    "    #Brightness temperatures of [CII]158; [CI](1-0); [CI](2-1)\n",
    "    Tcii = d[:,37]; Tci10 = d[:,38]; Tci21 = d[:,39]\n",
    "    #CO(1-0); CO(2-1); ... CO(10-9)\n",
    "    Tco10 = d[:,40]; Tco21 = d[:,41]; Tco32 = d[:,42] \n",
    "    Tco43 = d[:,43]; Tco54 = d[:,44]; Tco65 = d[:,45]\n",
    "    Tco76 = d[:,46]; Tco87 = d[:,47]; Tco98 = d[:,48]\n",
    "    Tco109 = d[:,49]\n",
    "except:\n",
    "    pass   \n",
    "\n",
    "#AV-PDF \n",
    "try:\n",
    "    d = np.genfromtxt(avpdf_file)  # user specified PDF\n",
    "    av = d[:,0]; pdf = d[:,1]\n",
    "    av_bar = 'user AV-PDF'\n",
    "    s = '*'\n",
    "    #av = 10**d[:,0]\n",
    "except:\n",
    "    d = np.genfromtxt('avpdf.dat')       # program generated PDF\n",
    "\n",
    "myVars = globals()\n",
    "#for plotting the grid\n",
    "xi = np.linspace(min(np.log10(CR)), max(np.log10(CR)), 50)\n",
    "yi = np.linspace(min(np.log10(UV)), max(np.log10(UV)), 50)\n",
    "points = np.array([np.log10(CR),np.log10(UV)]).T"
   ]
  },
  {
   "cell_type": "code",
   "execution_count": 36,
   "metadata": {},
   "outputs": [],
   "source": [
    "def grid_data(values):\n",
    "    # try:\n",
    "    #     zi = ml.griddata(np.log10(CR),np.log10(UV),np.log10(values),xi,yi,interp='linear') \n",
    "    # except:\n",
    "    zi = griddata(points,np.log10(values),(xi,yi),method='linear') \n",
    "    return(zi)"
   ]
  },
  {
   "cell_type": "code",
   "execution_count": 37,
   "metadata": {},
   "outputs": [
    {
     "data": {
      "text/plain": [
       "Text(0.5, 0.95, 'log Tco10')"
      ]
     },
     "execution_count": 37,
     "metadata": {},
     "output_type": "execute_result"
    },
    {
     "data": {
      "image/png": "[encoded data removed]",
      "text/plain": [
       "<Figure size 400x400 with 1 Axes>"
      ]
     },
     "metadata": {},
     "output_type": "display_data"
    }
   ],
   "source": [
    "#Individual plot\n",
    "\n",
    "#Enter quantity to plot (ratios are generally preferred, especially for brightness temperatures)\n",
    " \n",
    "species = plot_species.value\n",
    "if species == 'C+':      qty = Cp\n",
    "else:   \n",
    "    qty = myVars[species]\n",
    "# e.g. 'CO' for CO abundance, 'Tco21/Tco10' for CO(2-1)/CO(1-0)\n",
    "#title = r'T(CO 1-0)'\n",
    "title = species\n",
    "if title == 'HI_H2_ratio':  title = f'HI/H$_2$'\n",
    "\n",
    "ax = plt.figure(figsize=(4,4))\n",
    "N=6 #No. contours\n",
    "\n",
    "try:\n",
    "    #HI-H2 transition\n",
    "    zi_tr = ml.griddata(np.log10(CR),np.log10(UV),np.log10(HI/2./H2),xi,yi,interp='linear') \n",
    "    #make grid of the quantity qty\n",
    "    zi = ml.griddata(np.log10(CR),np.log10(UV),np.log10(qty),xi,yi,interp='linear')\n",
    "except:        # in newer versions of matplotlib there isn't mlab.griddata(), so use scipy instead:\n",
    "    xi,yi = np.mgrid[min(np.log10(CR)):max(np.log10(CR)):50j, min(np.log10(UV)):max(np.log10(UV)):50j]\n",
    "    zi_tr = griddata(points,np.log10(HI/2./H2),(xi,yi),method='linear') \n",
    "    zi_tco10 = griddata(points,np.log10(Tco10),(xi,yi),method='linear') \n",
    "    zi = griddata(points,np.log10(qty),(xi,yi),method='linear')\n",
    "\n",
    "#title = title\n",
    "if '/' in title:    dir_output=title.replace('/','_to_')\n",
    "else:               dir_output = title\n",
    "plt.pcolormesh(xi,yi,zi,cmap=cmap)\n",
    "# plt.contour(xi,yi,zi_tr,[0],colors='crimson',linewidths=3.0,linestyles='dashed') #plot HI-H2 transition (red line)\n",
    "#plt.contour(xi,yi,zi_tr,[0],colors='r',linewidths=3.0) #plot HI-H2 transition (red line)\n",
    "try:\n",
    "    plt.contour(xi,yi,zi,[np.log10(ref_value.value)],colors='m',linewidths=3.0, alpha=1) #plot HI-H2 transition (red line)\n",
    "except:\n",
    "    pass\n",
    "CS = plt.contour(xi,yi,zi,N,colors='k')\n",
    "plt.clabel(CS,fmt='%1.1f')\n",
    "\n",
    "plt.xticks([-17,-16,-15,-14,-13])\n",
    "plt.yticks([-1,0,1,2,3,4,5])\n",
    "plt.xlabel(r'$\\log_{10}\\,\\,\\zeta_{\\rm CR}$ [s$^{-1}$]')\n",
    "plt.ylabel(r'$\\log_{10}\\,\\,\\chi/\\chi_0$')\n",
    "plt.suptitle(f'log {title}', weight='bold',y=0.95)\n",
    "# plt.text(-15.5, 5.1, title, weight='bold', fontsize = 20)\n",
    "\n",
    "#individual_fig_path = os.path.join('Fig_{}.format(dir_output)', '{}_{}.png'.format(dir_output, pdf_i))\n",
    "#plt.savefig(individual_fig_path, bbox_inches='tight')"
   ]
  },
  {
   "cell_type": "code",
   "execution_count": 16,
   "metadata": {},
   "outputs": [],
   "source": [
    "if make_collective_figs_button.clicked:\n",
    "#Collective plot similar to paper\n",
    "\n",
    "    fig, axs = plt.subplots(4, 5, figsize=(20,19))\n",
    "\n",
    "    xt = -16.85; yt = -0.65; N=6\n",
    "    try:\n",
    "        zi_tr = ml.griddata(np.log10(CR),np.log10(UV),np.log10(HI/2./H2),xi,yi,interp='linear') \n",
    "        zi = ml.griddata(np.log10(CR),np.log10(UV),np.log10(qty),xi,yi,interp='linear')\n",
    "    except:        # in newer versions of matplotlib there isn't mlab.griddata(), so use scipy instead:\n",
    "        xi,yi = np.mgrid[min(np.log10(CR)):max(np.log10(CR)):50j, min(np.log10(UV)):max(np.log10(UV)):50j]\n",
    "        zi_tr = griddata(points,np.log10(HI/2./H2),(xi,yi),method='linear') \n",
    "\n",
    "    #zi_tr = grid_data(HI/2./H2)\n",
    "    axs[0,0].pcolormesh(xi,yi,zi_tr,cmap=cmap)\n",
    "    CS = axs[0,0].contour(xi,yi,zi_tr,N,colors='k')\n",
    "    axs[0,0].clabel(CS,fmt='%1.1f')\n",
    "    CS = axs[0,0].contour(xi,yi,zi_tr,[0],colors='r',linewidths=3.0)\n",
    "    text_box = AnchoredText(\"a\", prop=dict(fontweight=\"bold\",fontsize=20), frameon=True, loc=4, pad=0.3)\n",
    "    plt.setp(text_box.patch, boxstyle=\"round\", facecolor='white', alpha=0.9)\n",
    "    axs[0,0].add_artist(text_box)\n",
    "    axs[0,0].set_xticks([])\n",
    "    axs[0,0].set_yticks([-1, 0, 1, 2, 3, 4, 5])\n",
    "    axs[0,0].set_ylabel(r'$\\log\\,\\,\\chi/\\chi_0$')\n",
    "    axs[0,0].set_title('HI-to-H2')\n",
    "\n",
    "    #zi = ml.griddata(np.log10(CR),np.log10(UV),np.log10(CII),xi,yi,interp='linear')\n",
    "    zi = grid_data(CII)\n",
    "    axs[0,1].pcolormesh(xi,yi,zi,cmap=cmap)\n",
    "    CS = axs[0,1].contour(xi,yi,zi,N,colors='k')\n",
    "    plt.clabel(CS,fmt='%1.1f')\n",
    "    CS = axs[0,1].contour(xi,yi,zi_tr,[0],colors='r',linewidths=3.0)\n",
    "    text_box = AnchoredText(\"b\", prop=dict(fontweight=\"bold\",fontsize=20), frameon=True, loc=4, pad=0.3)\n",
    "    plt.setp(text_box.patch, boxstyle=\"round\", facecolor='white', alpha=0.9)\n",
    "    axs[0,1].add_artist(text_box)\n",
    "    axs[0,1].set_xticks([])\n",
    "    axs[0,1].set_yticks([])\n",
    "    axs[0,1].set_title('CII abundance')\n",
    "\n",
    "    #zi = ml.griddata(np.log10(CR),np.log10(UV),np.log10(CI),xi,yi,interp='linear')\n",
    "    zi = grid_data(CI)\n",
    "    axs[0,2].pcolormesh(xi,yi,zi,cmap=cmap)\n",
    "    CS = axs[0,2].contour(xi,yi,zi,N,colors='k')\n",
    "    plt.clabel(CS,fmt='%1.1f')\n",
    "    CS = axs[0,2].contour(xi,yi,zi_tr,[0],colors='r',linewidths=3.0)\n",
    "    text_box = AnchoredText(\"c\", prop=dict(fontweight=\"bold\",fontsize=20), frameon=True, loc=4, pad=0.3)\n",
    "    plt.setp(text_box.patch, boxstyle=\"round\", facecolor='white', alpha=0.9)\n",
    "    axs[0,2].add_artist(text_box)\n",
    "    axs[0,2].set_xticks([])\n",
    "    axs[0,2].set_yticks([])\n",
    "    axs[0,2].set_title('CI abundance')\n",
    "\n",
    "    #zi = ml.griddata(np.log10(CR),np.log10(UV),np.log10(CO),xi,yi,interp='linear')\n",
    "    zi = grid_data(CO)\n",
    "    axs[0,3].pcolormesh(xi,yi,zi,cmap=cmap)\n",
    "    CS = axs[0,3].contour(xi,yi,zi,N,colors='k')\n",
    "    plt.clabel(CS,fmt='%1.1f')\n",
    "    CS = axs[0,3].contour(xi,yi,zi_tr,[0],colors='r',linewidths=3.0)\n",
    "    text_box = AnchoredText(\"d\", prop=dict(fontweight=\"bold\",fontsize=20), frameon=True, loc=4, pad=0.3)\n",
    "    plt.setp(text_box.patch, boxstyle=\"round\", facecolor='white', alpha=0.9)\n",
    "    axs[0,3].add_artist(text_box)\n",
    "    axs[0,3].set_xticks([])\n",
    "    axs[0,3].set_yticks([])\n",
    "    axs[0,3].set_title('CO abundance')\n",
    "\n",
    "    #zi = ml.griddata(np.log10(CR),np.log10(UV),np.log10(Tgas),xi,yi,interp='linear')\n",
    "    zi = grid_data(Tgas)\n",
    "    axs[0,4].pcolormesh(xi,yi,zi,cmap=cmap)\n",
    "    CS = axs[0,4].contour(xi,yi,zi,N,colors='k')\n",
    "    plt.clabel(CS,fmt='%1.1f')\n",
    "    CS = axs[0,4].contour(xi,yi,zi_tr,[0],colors='r',linewidths=3.0)\n",
    "    text_box = AnchoredText(\"e\", prop=dict(fontweight=\"bold\",fontsize=20), frameon=True, loc=4, pad=0.3)\n",
    "    plt.setp(text_box.patch, boxstyle=\"round\", facecolor='white', alpha=0.9)\n",
    "    axs[0,4].add_artist(text_box)\n",
    "    axs[0,4].set_xticks([])\n",
    "    axs[0,4].set_yticks([])\n",
    "    axs[0,4].set_title(r'log T$_{\\rm gas}$ [K]')\n",
    "\n",
    "    #zi_R = ml.griddata(np.log10(CR),np.log10(UV),np.log10(OH),xi,yi,interp='linear')\n",
    "    zi_R = grid_data(OH)\n",
    "    axs[1,0].pcolormesh(xi,yi,zi_R,cmap=cmap)\n",
    "    CS = axs[1,0].contour(xi,yi,zi_R,N,colors='k')\n",
    "    plt.clabel(CS,fmt='%1.1f')\n",
    "    axs[1,0].contour(xi,yi,zi_tr,[0],colors='r',linewidths=3.0)\n",
    "    axs[1,0].contour(xi,yi,zi_R,[0],colors='w',linewidths=3.0)\n",
    "    text_box = AnchoredText(\"f\", prop=dict(fontweight=\"bold\",fontsize=20), frameon=True, loc=4, pad=0.3)\n",
    "    plt.setp(text_box.patch, boxstyle=\"round\", facecolor='white', alpha=0.9)\n",
    "    axs[1,0].add_artist(text_box)\n",
    "    axs[1,0].set_xticks([])\n",
    "    axs[1,0].set_yticks([-1, 0, 1, 2, 3, 4, 5])\n",
    "    axs[1,0].set_ylabel(r'$\\log\\,\\,\\chi/\\chi_0$')\n",
    "    axs[1,0].set_title('OH abundance')\n",
    "\n",
    "    #zi_R = ml.griddata(np.log10(CR),np.log10(UV),np.log10(OHp),xi,yi,interp='linear')\n",
    "    zi = grid_data(OHp)\n",
    "    axs[1,1].pcolormesh(xi,yi,zi_R,cmap=cmap)\n",
    "    CS = axs[1,1].contour(xi,yi,zi_R,N,colors='k')\n",
    "    plt.clabel(CS,fmt='%1.1f')\n",
    "    axs[1,1].contour(xi,yi,zi_tr,[0],colors='r',linewidths=3.0)\n",
    "    axs[1,1].contour(xi,yi,zi_R,[0],colors='w',linewidths=3.0)\n",
    "    text_box = AnchoredText(\"g\", prop=dict(fontweight=\"bold\",fontsize=20), frameon=True, loc=4, pad=0.3)\n",
    "    plt.setp(text_box.patch, boxstyle=\"round\", facecolor='white', alpha=0.9)\n",
    "    axs[1,1].add_artist(text_box)\n",
    "    axs[1,1].set_xticks([])\n",
    "    axs[1,1].set_yticks([])\n",
    "    axs[1,1].set_title(r'OH$^+$ abundance')\n",
    "\n",
    "    #zi_R = ml.griddata(np.log10(CR),np.log10(UV),np.log10(H2Op),xi,yi,interp='linear')\n",
    "    zi_R = grid_data(H2Op)\n",
    "    axs[1,2].pcolormesh(xi,yi,zi_R,cmap=cmap)\n",
    "    CS = axs[1,2].contour(xi,yi,zi_R,N,colors='k')\n",
    "    plt.clabel(CS,fmt='%1.1f')\n",
    "    axs[1,2].contour(xi,yi,zi_tr,[0],colors='r',linewidths=3.0)\n",
    "    axs[1,2].contour(xi,yi,zi_R,[0],colors='w',linewidths=3.0)\n",
    "    text_box = AnchoredText(\"h\", prop=dict(fontweight=\"bold\",fontsize=20), frameon=True, loc=4, pad=0.3)\n",
    "    plt.setp(text_box.patch, boxstyle=\"round\", facecolor='white', alpha=0.9)\n",
    "    axs[1,2].add_artist(text_box)\n",
    "    axs[1,2].set_xticks([])\n",
    "    axs[1,2].set_yticks([])\n",
    "    axs[1,2].set_title(r'H$_2$O$^+$ abundance')\n",
    "\n",
    "    #zi_R = ml.griddata(np.log10(CR),np.log10(UV),np.log10(CH),xi,yi,interp='linear')\n",
    "    zi_R = grid_data(CH)\n",
    "    axs[1,3].pcolormesh(xi,yi,zi_R,cmap=cmap)\n",
    "    CS = axs[1,3].contour(xi,yi,zi_R,N,colors='k')\n",
    "    plt.clabel(CS,fmt='%1.1f')\n",
    "    axs[1,3].contour(xi,yi,zi_tr,[0],colors='r',linewidths=3.0)\n",
    "    axs[1,3].contour(xi,yi,zi_R,[0],colors='w',linewidths=3.0)\n",
    "    text_box = AnchoredText(\"i\", prop=dict(fontweight=\"bold\",fontsize=20), frameon=True, loc=4, pad=0.3)\n",
    "    plt.setp(text_box.patch, boxstyle=\"round\", facecolor='white', alpha=0.9)\n",
    "    axs[1,3].add_artist(text_box)\n",
    "    axs[1,3].set_xticks([])\n",
    "    axs[1,3].set_yticks([])\n",
    "    axs[1,3].set_title('CH abundance')\n",
    "\n",
    "    #zi_R = ml.griddata(np.log10(CR),np.log10(UV),np.log10(HCOp),xi,yi,interp='linear')\n",
    "    zi_R = grid_data(HCOp)\n",
    "    axs[1,4].pcolormesh(xi,yi,zi_R,cmap=cmap)\n",
    "    CS = axs[1,4].contour(xi,yi,zi_R,N,colors='k')\n",
    "    plt.clabel(CS,fmt='%1.1f')\n",
    "    axs[1,4].contour(xi,yi,zi_tr,[0],colors='r',linewidths=3.0)\n",
    "    axs[1,4].contour(xi,yi,zi_R,[0],colors='w',linewidths=3.0)\n",
    "    text_box = AnchoredText(\"j\", prop=dict(fontweight=\"bold\",fontsize=20), frameon=True, loc=4, pad=0.3)\n",
    "    plt.setp(text_box.patch, boxstyle=\"round\", facecolor='white', alpha=0.9)\n",
    "    axs[1,4].add_artist(text_box)\n",
    "    axs[1,4].set_xticks([])\n",
    "    axs[1,4].set_yticks([])\n",
    "    axs[1,4].set_title(r'HCO$^+$ abundance')\n",
    "\n",
    "    #zi_R = ml.griddata(np.log10(CR),np.log10(UV),np.log10(Tci21/Tci10),xi,yi,interp='linear')\n",
    "    zi_R = grid_data(Tci21/Tci10)\n",
    "    axs[2,0].pcolormesh(xi,yi,zi_R,cmap=cmap)\n",
    "    CS = axs[2,0].contour(xi,yi,zi_R,N,colors='k')\n",
    "    plt.clabel(CS,fmt='%1.1f')\n",
    "    axs[2,0].contour(xi,yi,zi_tr,[0],colors='r',linewidths=3.0)\n",
    "    axs[2,0].contour(xi,yi,zi_R,[0],colors='w',linewidths=3.0)\n",
    "    text_box = AnchoredText(\"k\", prop=dict(fontweight=\"bold\",fontsize=20), frameon=True, loc=4, pad=0.3)\n",
    "    plt.setp(text_box.patch, boxstyle=\"round\", facecolor='white', alpha=0.9)\n",
    "    axs[2,0].add_artist(text_box)\n",
    "    axs[2,0].set_xticks([])\n",
    "    axs[2,0].set_yticks([-1, 0, 1, 2, 3, 4, 5])\n",
    "    axs[2,0].set_ylabel(r'$\\log\\,\\,\\chi/\\chi_0$')\n",
    "    axs[2,0].set_title('[CI](2-1) / [CI](1-0)')\n",
    "\n",
    "    #zi_R = ml.griddata(np.log10(CR),np.log10(UV),np.log10(Tco21/Tco10),xi,yi,interp='linear')\n",
    "    zi_R = grid_data(Tco21/Tco10)\n",
    "    axs[2,1].pcolormesh(xi,yi,zi_R,cmap=cmap)\n",
    "    CS = axs[2,1].contour(xi,yi,zi_R,N,colors='k')\n",
    "    plt.clabel(CS,fmt='%1.1f')\n",
    "    axs[2,1].contour(xi,yi,zi_tr,[0],colors='r',linewidths=3.0)\n",
    "    axs[2,1].contour(xi,yi,zi_R,[0],colors='w',linewidths=3.0)\n",
    "    text_box = AnchoredText(\"l\", prop=dict(fontweight=\"bold\",fontsize=20), frameon=True, loc=4, pad=0.3)\n",
    "    plt.setp(text_box.patch, boxstyle=\"round\", facecolor='white', alpha=0.9)\n",
    "    axs[2,1].add_artist(text_box)\n",
    "    axs[2,1].set_xticks([])\n",
    "    axs[2,1].set_yticks([])\n",
    "    axs[2,1].set_title('CO(2-1) / CO(1-0)')\n",
    "\n",
    "    #zi_R = ml.griddata(np.log10(CR),np.log10(UV),np.log10(Tco32/Tco10),xi,yi,interp='linear')\n",
    "    zi_R = grid_data(Tco32/Tco10)\n",
    "    axs[2,2].pcolormesh(xi,yi,zi_R,cmap=cmap)\n",
    "    CS = axs[2,2].contour(xi,yi,zi_R,N,colors='k')\n",
    "    plt.clabel(CS,fmt='%1.1f')\n",
    "    axs[2,2].contour(xi,yi,zi_tr,[0],colors='r',linewidths=3.0)\n",
    "    axs[2,2].contour(xi,yi,zi_R,[0],colors='w',linewidths=3.0)\n",
    "    text_box = AnchoredText(\"m\", prop=dict(fontweight=\"bold\",fontsize=20), frameon=True, loc=4, pad=0.3)\n",
    "    plt.setp(text_box.patch, boxstyle=\"round\", facecolor='white', alpha=0.9)\n",
    "    axs[2,2].add_artist(text_box)\n",
    "    axs[2,2].set_xticks([])\n",
    "    axs[2,2].set_yticks([])\n",
    "    axs[2,2].set_title('CO(3-2) / CO(1-0)')\n",
    "\n",
    "    #zi_R = ml.griddata(np.log10(CR),np.log10(UV),np.log10(Tco43/Tco10),xi,yi,interp='linear')\n",
    "    zi_R = grid_data(Tco43/Tco10)\n",
    "    axs[2,3].pcolormesh(xi,yi,zi_R,cmap=cmap)\n",
    "    CS = axs[2,3].contour(xi,yi,zi_R,N,colors='k')\n",
    "    plt.clabel(CS,fmt='%1.1f')\n",
    "    axs[2,3].contour(xi,yi,zi_tr,[0],colors='r',linewidths=3.0)\n",
    "    axs[2,3].contour(xi,yi,zi_R,[0],colors='w',linewidths=3.0)\n",
    "    text_box = AnchoredText(\"n\", prop=dict(fontweight=\"bold\",fontsize=20), frameon=True, loc=4, pad=0.3)\n",
    "    plt.setp(text_box.patch, boxstyle=\"round\", facecolor='white', alpha=0.9)\n",
    "    axs[2,3].add_artist(text_box)\n",
    "    axs[2,3].set_xticks([])\n",
    "    axs[2,3].set_yticks([])\n",
    "    axs[2,3].set_title('CO(4-3) / CO(1-0)')\n",
    "\n",
    "    #zi_R = ml.griddata(np.log10(CR),np.log10(UV),np.log10(Tco54/Tco10),xi,yi,interp='linear')\n",
    "    zi_R = grid_data(Tco54/Tco10)\n",
    "    axs[2,4].pcolormesh(xi,yi,zi_R,cmap=cmap)\n",
    "    CS = axs[2,4].contour(xi,yi,zi_R,N,colors='k')\n",
    "    plt.clabel(CS,fmt='%1.1f')\n",
    "    axs[2,4].contour(xi,yi,zi_tr,[0],colors='r',linewidths=3.0)\n",
    "    axs[2,4].contour(xi,yi,zi_R,[0],colors='w',linewidths=3.0)\n",
    "    text_box = AnchoredText(\"o\", prop=dict(fontweight=\"bold\",fontsize=20), frameon=True, loc=4, pad=0.3)\n",
    "    plt.setp(text_box.patch, boxstyle=\"round\", facecolor='white', alpha=0.9)\n",
    "    axs[2,4].add_artist(text_box)\n",
    "    axs[2,4].set_xticks([])\n",
    "    axs[2,4].set_yticks([])\n",
    "    axs[2,4].set_title(r'CO(5-4) / CO(1-0)')\n",
    "\n",
    "    #zi_R = ml.griddata(np.log10(CR),np.log10(UV),np.log10(Tci21/Tco76),xi,yi,interp='linear')\n",
    "    zi_R = grid_data(Tci21/Tco76)\n",
    "    axs[3,0].pcolormesh(xi,yi,zi_R,cmap=cmap)\n",
    "    CS = axs[3,0].contour(xi,yi,zi_R,N,colors='k')\n",
    "    plt.clabel(CS,fmt='%1.1f')\n",
    "    axs[3,0].contour(xi,yi,zi_tr,[0],colors='r',linewidths=3.0)\n",
    "    axs[3,0].contour(xi,yi,zi_R,[0],colors='w',linewidths=3.0)\n",
    "    text_box = AnchoredText(\"p\", prop=dict(fontweight=\"bold\",fontsize=20), frameon=True, loc=4, pad=0.3)\n",
    "    plt.setp(text_box.patch, boxstyle=\"round\", facecolor='white', alpha=0.9)\n",
    "    axs[3,0].add_artist(text_box)\n",
    "    axs[3,0].set_xticks([-17, -16, -15, -14])\n",
    "    axs[3,0].set_xlabel(r'$\\log\\,\\,\\zeta_{\\rm CR}$ [s$^{-1}$]')\n",
    "    axs[3,0].set_yticks([-1, 0, 1, 2, 3, 4, 5])\n",
    "    axs[3,0].set_title(r'[CI](2-1) / CO(7-6)')\n",
    "    axs[3,0].set_ylabel(r'$\\log\\,\\,\\chi/\\chi_0$')\n",
    "    axs[3,0].set_xlabel(r'$\\log\\,\\,\\zeta_{\\rm CR}$ [s$^{-1}$]')\n",
    "\n",
    "    #zi_R = ml.griddata(np.log10(CR),np.log10(UV),np.log10(Tci10/Tco43),xi,yi,interp='linear')\n",
    "    zi_R = grid_data(Tci10/Tco43)\n",
    "    axs[3,1].pcolormesh(xi,yi,zi_R,cmap=cmap)\n",
    "    CS = axs[3,1].contour(xi,yi,zi_R,N,colors='k')\n",
    "    plt.clabel(CS,fmt='%1.1f')\n",
    "    axs[3,1].contour(xi,yi,zi_tr,[0],colors='r',linewidths=3.0)\n",
    "    axs[3,1].contour(xi,yi,zi_R,[0],colors='w',linewidths=3.0)\n",
    "    text_box = AnchoredText(\"q\", prop=dict(fontweight=\"bold\",fontsize=20), frameon=True, loc=4, pad=0.3)\n",
    "    plt.setp(text_box.patch, boxstyle=\"round\", facecolor='white', alpha=0.9)\n",
    "    axs[3,1].add_artist(text_box)\n",
    "    axs[3,1].set_xticks([-17, -16, -15, -14])\n",
    "    axs[3,1].set_xlabel(r'$\\log\\,\\,\\zeta_{\\rm CR}$ [s$^{-1}$]')\n",
    "    axs[3,1].set_yticks([])\n",
    "    axs[3,1].set_title(r'[CI](1-0) / CO(4-3)')\n",
    "\n",
    "    #zi_R = ml.griddata(np.log10(CR),np.log10(UV),np.log10(Tci10/Tco10),xi,yi,interp='linear')\n",
    "    zi_R = grid_data(Tci10/Tco10)\n",
    "    axs[3,2].pcolormesh(xi,yi,zi_R,cmap=cmap)\n",
    "    CS = axs[3,2].contour(xi,yi,zi_R,N,colors='k')\n",
    "    plt.clabel(CS,fmt='%1.1f')\n",
    "    axs[3,2].contour(xi,yi,zi_tr,[0],colors='r',linewidths=3.0)\n",
    "    axs[3,2].contour(xi,yi,zi_R,[0],colors='w',linewidths=3.0)\n",
    "    text_box = AnchoredText(\"r\", prop=dict(fontweight=\"bold\",fontsize=20), frameon=True, loc=4, pad=0.3)\n",
    "    plt.setp(text_box.patch, boxstyle=\"round\", facecolor='white', alpha=0.9)\n",
    "    axs[3,2].add_artist(text_box)\n",
    "    axs[3,2].set_xticks([-17, -16, -15, -14])\n",
    "    axs[3,2].set_yticks([])\n",
    "    axs[3,2].set_title(r'[CI](1-0) / CO(1-0)')\n",
    "    axs[3,2].set_xlabel(r'$\\log\\,\\,\\zeta_{\\rm CR}$ [s$^{-1}$]')\n",
    "\n",
    "    #zi_R = ml.griddata(np.log10(CR),np.log10(UV),np.log10(Tcii/Tci10),xi,yi,interp='linear')\n",
    "    zi_R = grid_data(Tcii/Tci10)\n",
    "    axs[3,3].pcolormesh(xi,yi,zi_R,cmap=cmap)\n",
    "    CS = axs[3,3].contour(xi,yi,zi_R,N,colors='k')\n",
    "    plt.clabel(CS,fmt='%1.1f')\n",
    "    axs[3,3].contour(xi,yi,zi_tr,[0],colors='r',linewidths=3.0)\n",
    "    axs[3,3].contour(xi,yi,zi_R,[0],colors='w',linewidths=3.0)\n",
    "    text_box = AnchoredText(\"s\", prop=dict(fontweight=\"bold\",fontsize=20), frameon=True, loc=4, pad=0.3)\n",
    "    plt.setp(text_box.patch, boxstyle=\"round\", facecolor='white', alpha=0.9)\n",
    "    axs[3,3].add_artist(text_box)\n",
    "    axs[3,3].set_xticks([-17, -16, -15, -14])\n",
    "    axs[3,3].set_xlabel(r'$\\log\\,\\,\\zeta_{\\rm CR}$ [s$^{-1}$]')\n",
    "    axs[3,3].set_yticks([])\n",
    "    axs[3,3].set_title(r'[CII] / [CI](1-0)')\n",
    "\n",
    "    #zi_R = ml.griddata(np.log10(CR),np.log10(UV),np.log10(Tcii/Tco10),xi,yi,interp='linear')\n",
    "    zi_R = grid_data(Tcii/Tco10)\n",
    "    axs[3,4].pcolormesh(xi,yi,zi_R,cmap=cmap)\n",
    "    CS = axs[3,4].contour(xi,yi,zi_R,N,colors='k')\n",
    "    plt.clabel(CS,fmt='%1.1f')\n",
    "    axs[3,4].contour(xi,yi,zi_tr,[0],colors='r',linewidths=3.0)\n",
    "    axs[3,4].contour(xi,yi,zi_R,[0],colors='w',linewidths=3.0)\n",
    "    text_box = AnchoredText(\"t\", prop=dict(fontweight=\"bold\",fontsize=20), frameon=True, loc=4, pad=0.3)\n",
    "    plt.setp(text_box.patch, boxstyle=\"round\", facecolor='white', alpha=0.9)\n",
    "    axs[3,4].add_artist(text_box)\n",
    "    axs[3,4].set_xticks([-17, -16, -15, -14, -13])\n",
    "    axs[3,4].set_xlabel(r'$\\log\\,\\,\\zeta_{\\rm CR}$ [s$^{-1}$]')\n",
    "    axs[3,4].set_yticks([])\n",
    "    axs[3,4].set_title(r'[CII] / CO(1-0)')\n",
    "\n",
    "\n",
    "    plt.subplots_adjust(wspace=0.05, hspace=0.2)\n",
    "    #plt.suptitle(title, y=0.93, weight='bold')\n",
    "\n",
    "    #collective_fig_path = os.path.join('Fig_Collective', 'Collective_{}.png'.format(pdf_i))\n",
    "    #plt.savefig(collective_fig_path, bbox_inches='tight')"
   ]
  },
  {
   "cell_type": "code",
   "execution_count": 17,
   "metadata": {},
   "outputs": [],
   "source": [
    "if  make_carbon_figs_button.clicked:\n",
    "    d = pd.read_table(output_file, header=None, sep='\\s+')\n",
    "    d.rename(columns= { 0: 'UV', 1: 'CR', 2: 'Z', 3: 'Tgas', 14: 'CII', 28: 'CI', 31: 'CO', 33: 'OI', 35: 'HI', 34: 'H2', 12: 'OHp', 16: 'H2Op', 32: 'OH', 24: 'CH', 26: 'HCOp',\n",
    "            },\n",
    "            inplace=True)\n",
    "\n",
    "    # make contours for UV and CR\n",
    "    for sub_cr in pd.unique(d['CR']):\n",
    "        cr_g = d[d['CR'] == sub_cr]\n",
    "        CII = cr_g['CII']; CI = cr_g['CI']; CO = cr_g['CO']\n",
    "        tot_carbon = CII+CI+CO\n",
    "        sub_c2,sub_c1,sub_co = CII/tot_carbon, CI/tot_carbon, CO/tot_carbon\n",
    "        cr_points = []\n",
    "        for i in range(len(sub_c1)):\n",
    "            cr_points.append((sub_c2.iloc[i], sub_c1.iloc[i], sub_co.iloc[i]))\n",
    "    for sub_uv in pd.unique(d['UV']):\n",
    "        uv_g = d[d['UV'] == sub_uv]\n",
    "        CII = uv_g['CII']; CI = uv_g['CI']; CO = uv_g['CO']\n",
    "        tot_carbon = CII+CI+CO\n",
    "        sub_c2,sub_c1,sub_co = CII/tot_carbon, CI/tot_carbon, CO/tot_carbon\n",
    "        uv_points = []\n",
    "        for i in range(len(sub_c1)):\n",
    "            uv_points.append((sub_c2.iloc[i], sub_c1.iloc[i], sub_co.iloc[i]))\n",
    "\n",
    "\n",
    "    def plot_carbon(uv, cr, z):\n",
    "        # Create boolean masks for each condition\n",
    "        uv_diff = np.abs(d['UV'] - 10**uv)\n",
    "        cr_diff = np.abs(d['CR'] - 10**cr)\n",
    "        \n",
    "        # Use the combined_mask to find the row(s) that satisfy all conditions\n",
    "        matched_d = d[(np.abs(d['UV'] - 10**uv) == uv_diff.min()) & (np.abs(d['CR'] - 10**cr) == cr_diff.min())]\n",
    "        CII = matched_d['CII']; CI = matched_d['CI']; CO = matched_d['CO']\n",
    "        tot_carbon = CII+CI+CO\n",
    "        c2 = CII/tot_carbon\n",
    "        c1 = CI/tot_carbon\n",
    "        co = CO/tot_carbon\n",
    "        points = (c2.iloc[0], c1.iloc[0], co.iloc[0])\n",
    "        color = (c2.iloc[0], c1.iloc[0], co.iloc[0], 0.9)\n",
    "        scale = 1.0\n",
    "        \n",
    "        figure, tax = ternary.figure(scale=scale)\n",
    "        figure.set_size_inches(6, 5.6)\n",
    "        for sub_cr in pd.unique(d['CR'])[::2]:\n",
    "            cr_g = d[d['CR'] == sub_cr]\n",
    "            CII = cr_g['CII']; CI = cr_g['CI']; CO = cr_g['CO']\n",
    "            tot_carbon = CII+CI+CO\n",
    "            sub_c2,sub_c1,sub_co = CII/tot_carbon, CI/tot_carbon, CO/tot_carbon\n",
    "            cr_points = []\n",
    "            for i in range(len(sub_c1)):\n",
    "                cr_points.append((sub_c2.iloc[i], sub_c1.iloc[i], sub_co.iloc[i]))\n",
    "            tax.plot(cr_points, linewidth=2.0, c='xkcd:turquoise', alpha=0.3, label=\"Curve\")\n",
    "        for sub_uv in pd.unique(d['UV'])[::2]:\n",
    "            uv_g = d[d['UV'] == sub_uv]\n",
    "            CII = uv_g['CII']; CI = uv_g['CI']; CO = uv_g['CO']\n",
    "            tot_carbon = CII+CI+CO\n",
    "            sub_c2,sub_c1,sub_co = CII/tot_carbon, CI/tot_carbon, CO/tot_carbon\n",
    "            uv_points = []\n",
    "            for i in range(len(sub_c1)):\n",
    "                uv_points.append((sub_c2.iloc[i], sub_c1.iloc[i], sub_co.iloc[i]))\n",
    "            tax.plot(uv_points, linewidth=2.0, c='xkcd:indigo', alpha=0.4, label=\"Curve\")\n",
    "\n",
    "\n",
    "        # Draw Boundary and Gridlines\n",
    "        tax.boundary(linewidth=2.0)\n",
    "        tax.gridlines(color=\"silver\", multiple=0.1)\n",
    "        tax.ticks(clockwise=True, axis='lbr', ticks=['0%', '20%', '40%', '60%', '80%', '100%'], fontsize =16, multiple=1, linewidth=2, offset=0.045)\n",
    "        tax.get_axes().axis('off')\n",
    "        tax.clear_matplotlib_ticks()\n",
    "\n",
    "        # Set Axis labels and Title\n",
    "        fontsize = 20\n",
    "        offset = 0.14\n",
    "        tax.right_corner_label(\"C$^+$\", fontsize=fontsize, offset=0.1, c='crimson')\n",
    "        tax.top_corner_label(\"C\", fontsize=fontsize, offset=0.25, c='forestgreen')\n",
    "        tax.left_corner_label(\"CO\", fontsize=fontsize, offset=0.05, c='steelblue')\n",
    "        c2str, c1str, costr = f\"{c2.iloc[0]:.0%}\", f\"{c1.iloc[0]:.0%}\", f\"{co.iloc[0]:.0%}\"\n",
    "        tax.set_title(f\"C$^+$:{c2str}, C:{c1str}, CO:{costr}\\n\\n\", fontsize=fontsize,y=-0.05)\n",
    "        try:    tax.scatter([points], c=color, s=200, marker=star, edgecolor='none', zorder=5)\n",
    "        except: pass\n",
    "        # tax.set_title(f\"C$^+$:{c2str}, CI:{c1str}, CO:{costr}\\n\\n\", fontsize=fontsize,y=-0.03)\n",
    "        tax.show()\n",
    "        # global filename\n",
    "        # figure.savefig(f\"figures/ternary{filename}.pdf\")\n",
    "\n",
    "    # plot_carbon(4.4, -15.9, 1)\n",
    "    # plot_carbon(-0.6, -15.7, 1)\n",
    "    # plot_carbon(-0.4, -15.5, 1)\n",
    "    plot_carbon(0, -16, 1)\n"
   ]
  },
  {
   "cell_type": "code",
   "execution_count": 3,
   "metadata": {},
   "outputs": [
    {
     "data": {
      "text/plain": [
       "60.048200890754615"
      ]
     },
     "execution_count": 3,
     "metadata": {},
     "output_type": "execute_result"
    }
   ],
   "source": [
    "10**1.7785"
   ]
  },
  {
   "cell_type": "code",
   "execution_count": null,
   "metadata": {},
   "outputs": [],
   "source": []
  }
 ],
 "metadata": {
  "kernelspec": {
   "display_name": "Python 3 (ipykernel)",
   "language": "python",
   "name": "python3"
  },
  "language_info": {
   "codemirror_mode": {
    "name": "ipython",
    "version": 3
   },
   "file_extension": ".py",
   "mimetype": "text/x-python",
   "name": "python",
   "nbconvert_exporter": "python",
   "pygments_lexer": "ipython3",
   "version": "3.1.-1"
  },
  "vscode": {
   "interpreter": {
    "hash": "4306d418e01b18465b7af2df902a100a690006f6ad204f25d2212828b2ae0ead"
   }
  }
 },
 "nbformat": 4,
 "nbformat_minor": 4
}
