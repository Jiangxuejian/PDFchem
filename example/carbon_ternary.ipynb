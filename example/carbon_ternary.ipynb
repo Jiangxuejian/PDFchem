{
 "cells": [
  {
   "cell_type": "code",
   "execution_count": 101,
   "metadata": {
    "scrolled": true
   },
   "outputs": [],
   "source": [
    "import numpy as np\n",
    "import matplotlib\n",
    "import matplotlib.pyplot as plt\n",
    "import ipywidgets as widgets\n",
    "from ipywidgets import interact, interactive, AppLayout, fixed, interact_manual\n",
    "import ternary\n",
    "# import mpltern\n",
    "# import panel as pn\n",
    "import pandas as pd\n",
    "from matplotlib.patches import Wedge\n",
    "%matplotlib inline\n",
    "matplotlib.rcParams['figure.dpi'] = 150\n",
    "matplotlib.rcParams['font.family'] = 'sans-serif'\n",
    "matplotlib.rcParams['font.sans-serif'] = ['DejaVu Serif']\n",
    "import matplotlib.font_manager\n",
    "from IPython.core.display import HTML\n",
    "import matplotlib.path as mpath\n",
    "star = mpath.Path.unit_regular_star(6)\n",
    "\n",
    "# def make_html(fontname):\n",
    "#     return \"<p>{font}: <span style='font-family:{font}; font-size: 24px;'>{font}</p>\".format(font=fontname)\n",
    "\n",
    "# code = \"\\n\".join([make_html(font) for font in sorted(set([f.name for f in matplotlib.font_manager.fontManager.ttflist]))])\n",
    "\n",
    "# HTML(\"<div style='column-count: 2;'>{}</div>\".format(code))\n"
   ]
  },
  {
   "cell_type": "code",
   "execution_count": 102,
   "metadata": {},
   "outputs": [
    {
     "name": "stdout",
     "output_type": "stream",
     "text": [
      "CPU times: total: 0 ns\n",
      "Wall time: 0 ns\n"
     ]
    }
   ],
   "source": [
    "%%time\n",
    "# output_file = 'pdfchem_output/output_11_10.dat'\n",
    "# filename = 'output_sf'\n",
    "filename = '_60_33'\n",
    "output_file = f'output{filename}.dat'\n",
    "\n",
    "# d = np.genfromtxt(output_file)\n",
    "\n",
    "# #UV radiation (Draine); cosmic-ray ionization rate (s-1); metallicity (Zsolar)\n",
    "# UV = d[:,0]; CR = d[:,1]; Z = d[:,2]\n",
    "# #Gas temperature\n",
    "# Tgas = d[:,3]\n",
    "# #Abundances of CII; CI; CO; OI; HI; H2; OH+; H2O+; OH; CH; HCO+\n",
    "# CII = d[:,14]; CI = d[:,28]; CO = d[:,31]\n",
    "# OI = d[:,33]; HI = d[:,35]; H2 = d[:,34]\n",
    "# OHp = d[:,12]; H2Op = d[:,16]; OH = d[:,32]\n",
    "# CH = d[:,24]; HCOp = d[:,26]\n",
    "# #\n",
    "# # CII = d[:,14]; CI = d[:,28]; CO = d[:,31]\n",
    "# tot_carbon = CII+CI+CO\n",
    "# c2 = CII/tot_carbon\n",
    "# c1 = CI/tot_carbon\n",
    "# co = CO/tot_carbon"
   ]
  },
  {
   "cell_type": "code",
   "execution_count": 103,
   "metadata": {},
   "outputs": [],
   "source": [
    "d = pd.read_table(output_file, header=None, sep='\\s+')\n",
    "d.rename(columns= {\n",
    "         0: 'UV',\n",
    "         1: 'CR',\n",
    "         2: 'Z',\n",
    "         3: 'Tgas',\n",
    "         14: 'CII',\n",
    "         28: 'CI',\n",
    "         31: 'CO',\n",
    "         33: 'OI',\n",
    "         35: 'HI',\n",
    "         34: 'H2',\n",
    "         12: 'OHp',\n",
    "         16: 'H2Op',\n",
    "         32: 'OH',\n",
    "         24: 'CH',\n",
    "         26: 'HCOp',\n",
    "         },\n",
    "         inplace=True)\n",
    "# allpoints = np.asarray(d[['CII','CI','CO']])\n",
    "\n",
    "# CII = d['CII']; CI = d['CI']; CO = d['CO']\n",
    "# tot_carbon = CII+CI+CO\n",
    "# c2 = CII/tot_carbon\n",
    "# c1 = CI/tot_carbon\n",
    "# co = CO/tot_carbon\n",
    "# allpoints = []\n",
    "# for i in range(len(c1)):\n",
    "#     allpoints.append((c2[i], c1[i], co[i]))"
   ]
  },
  {
   "cell_type": "code",
   "execution_count": 104,
   "metadata": {},
   "outputs": [],
   "source": [
    "# uv =-0.8\n",
    "# cr =-17\n",
    "# uv_diff = np.abs(d['UV'] - 10**uv)\n",
    "# cr_diff = np.abs(d['CR'] - 10**cr)\n",
    "# matched_d = d[(np.abs(d['UV'] - 10**uv) == uv_diff.min()) & (np.abs(d['CR'] - 10**cr) == cr_diff.min())]\n",
    "# CII = matched_d['CII']; CI = matched_d['CI']; CO = matched_d['CO']\n",
    "# tot_carbon = CII+CI+CO\n",
    "# c2 = CII/tot_carbon\n",
    "# c1 = CI/tot_carbon\n",
    "# co = CO/tot_carbon\n",
    "# f\"{c2[0]:.0%}\", f\"{c1[0]:.0%}\", f\"{co[0]:.0%}\"\n",
    "# pd.unique(d['UV'])[::5]"
   ]
  },
  {
   "cell_type": "code",
   "execution_count": 105,
   "metadata": {},
   "outputs": [],
   "source": [
    "# make contours for UV and CR\n",
    "for sub_cr in pd.unique(d['CR']):\n",
    "    cr_g = d[d['CR'] == sub_cr]\n",
    "    CII = cr_g['CII']; CI = cr_g['CI']; CO = cr_g['CO']\n",
    "    tot_carbon = CII+CI+CO\n",
    "    sub_c2,sub_c1,sub_co = CII/tot_carbon, CI/tot_carbon, CO/tot_carbon\n",
    "    cr_points = []\n",
    "    for i in range(len(sub_c1)):\n",
    "        cr_points.append((sub_c2.iloc[i], sub_c1.iloc[i], sub_co.iloc[i]))\n",
    "for sub_uv in pd.unique(d['UV']):\n",
    "    uv_g = d[d['UV'] == sub_uv]\n",
    "    CII = uv_g['CII']; CI = uv_g['CI']; CO = uv_g['CO']\n",
    "    tot_carbon = CII+CI+CO\n",
    "    sub_c2,sub_c1,sub_co = CII/tot_carbon, CI/tot_carbon, CO/tot_carbon\n",
    "    uv_points = []\n",
    "    for i in range(len(sub_c1)):\n",
    "        uv_points.append((sub_c2.iloc[i], sub_c1.iloc[i], sub_co.iloc[i]))"
   ]
  },
  {
   "cell_type": "code",
   "execution_count": 106,
   "metadata": {},
   "outputs": [],
   "source": [
    "def plot_carbon(uv, cr, z):\n",
    "    # Create boolean masks for each condition\n",
    "    uv_diff = np.abs(d['UV'] - 10**uv)\n",
    "    cr_diff = np.abs(d['CR'] - 10**cr)\n",
    "    # idx = np.where((uv_diff == uv_diff.min()) & (cr_diff == cr_diff.min()))[0]\n",
    "    # uv_idx = np.where(uv_diff == uv_diff.min())[0]\n",
    "    # cr_idx = np.where(cr_diff == cr_diff.min())[0]\n",
    "    \n",
    "    # Use the combined_mask to find the row(s) that satisfy all conditions\n",
    "    matched_d = d[(np.abs(d['UV'] - 10**uv) == uv_diff.min()) & (np.abs(d['CR'] - 10**cr) == cr_diff.min())]\n",
    "    CII = matched_d['CII']; CI = matched_d['CI']; CO = matched_d['CO']\n",
    "    tot_carbon = CII+CI+CO\n",
    "    c2 = CII/tot_carbon\n",
    "    c1 = CI/tot_carbon\n",
    "    co = CO/tot_carbon\n",
    "    points = (c2.iloc[0], c1.iloc[0], co.iloc[0])\n",
    "    color = (c2.iloc[0], c1.iloc[0], co.iloc[0], 1)\n",
    "    scale = 1.0\n",
    "    \n",
    "    figure, tax = ternary.figure(scale=scale)\n",
    "    figure.set_size_inches(5, 4.6)\n",
    "    for sub_cr in pd.unique(d['CR'])[::2]:\n",
    "        cr_g = d[d['CR'] == sub_cr]\n",
    "        CII = cr_g['CII']; CI = cr_g['CI']; CO = cr_g['CO']\n",
    "        tot_carbon = CII+CI+CO\n",
    "        sub_c2,sub_c1,sub_co = CII/tot_carbon, CI/tot_carbon, CO/tot_carbon\n",
    "        cr_points = []\n",
    "        for i in range(len(sub_c1)):\n",
    "            cr_points.append((sub_c2.iloc[i], sub_c1.iloc[i], sub_co.iloc[i]))\n",
    "        tax.plot(cr_points, linewidth=2.0, c='xkcd:turquoise', alpha=0.3, label=\"Curve\")\n",
    "    for sub_uv in pd.unique(d['UV'])[::2]:\n",
    "        uv_g = d[d['UV'] == sub_uv]\n",
    "        CII = uv_g['CII']; CI = uv_g['CI']; CO = uv_g['CO']\n",
    "        tot_carbon = CII+CI+CO\n",
    "        sub_c2,sub_c1,sub_co = CII/tot_carbon, CI/tot_carbon, CO/tot_carbon\n",
    "        uv_points = []\n",
    "        for i in range(len(sub_c1)):\n",
    "            uv_points.append((sub_c2.iloc[i], sub_c1.iloc[i], sub_co.iloc[i]))\n",
    "        tax.plot(uv_points, linewidth=2.0, c='xkcd:indigo', alpha=0.4, label=\"Curve\")\n",
    "\n",
    "    # Draw Boundary and Gridlines\n",
    "    tax.boundary(linewidth=2.0)\n",
    "    tax.gridlines(color=\"silver\", multiple=0.1)\n",
    "    tax.ticks(clockwise=True, axis='lbr', ticks=['0%', '20%', '40%', '60%', '80%', '100%'], multiple=1, linewidth=2, offset=0.032)\n",
    "    tax.get_axes().axis('off')\n",
    "    tax.clear_matplotlib_ticks()\n",
    "\n",
    "    # Set Axis labels and Title\n",
    "    fontsize = 14\n",
    "    offset = 0.14\n",
    "    tax.right_corner_label(\"C$^+$\", fontsize=fontsize, offset=0.1, c='crimson')\n",
    "    tax.top_corner_label(\"CI\", fontsize=fontsize, offset=0.25, c='forestgreen')\n",
    "    tax.left_corner_label(\"CO\", fontsize=fontsize, offset=0.05, c='steelblue')\n",
    "    # tax.bottom_axis_label(\"CO $\\\\longleftarrow\\\\longleftarrow\\\\longleftarrow$\", fontsize=fontsize, offset=offset, c='steelblue')\n",
    "    # tax.right_axis_label(\"$\\\\longrightarrow\\\\longrightarrow\\\\longrightarrow$ C$^+$\", fontsize=fontsize, offset=offset,  c='crimson')\n",
    "    # tax.left_axis_label(\"CI $\\\\longrightarrow\\\\longrightarrow\\\\longrightarrow$\", fontsize=fontsize, offset=offset, c='forestgreen')\n",
    "    # tax.scatter(allpoints, alpha=0.2, marker='2', s=100)\n",
    "    tax.scatter([points], c=color, s=200, marker=star, edgecolor='none', zorder=5)\n",
    "    c2str, c1str, costr = f\"{c2.iloc[0]:.0%}\", f\"{c1.iloc[0]:.0%}\", f\"{co.iloc[0]:.0%}\"\n",
    "    tax.set_title(f\"C$^+$:{c2str}, CI:{c1str}, CO:{costr}\\n\\n\", fontsize=fontsize,y=-0.03)\n",
    "    tax.show()\n",
    "    global filename\n",
    "    figure.savefig(f\"ternary{filename}.pdf\")"
   ]
  },
  {
   "cell_type": "code",
   "execution_count": 107,
   "metadata": {},
   "outputs": [
    {
     "data": {
      "application/vnd.jupyter.widget-view+json": {
       "model_id": "4331972644f34c8c9b4837a06f11973f",
       "version_major": 2,
       "version_minor": 0
      },
      "text/plain": [
       "AppLayout(children=(VBox(children=(FloatSlider(value=-0.4, description='lg(UV):', layout=Layout(width='690px')…"
      ]
     },
     "execution_count": 107,
     "metadata": {},
     "output_type": "execute_result"
    }
   ],
   "source": [
    "uv_slider = widgets.FloatSlider(value=-0.4, min=-1, max=5, step=0.1, description='lg(UV):',layout=widgets.Layout(width='690px',font_size=16))\n",
    "cr_slider = widgets.FloatSlider(value=-15.48, min=-17, max=-13, step=-0.1, description='lg(CR):',layout=widgets.Layout(width='690px'))\n",
    "z_slider  = widgets.SelectionSlider(value=1, options=[0.1, 0.5, 1, 2], description='Metallicity:', layout=widgets.Layout(width='500px'))\n",
    "sliders_box = widgets.VBox([uv_slider, cr_slider, #z_slider\n",
    "                           ])\n",
    "# myplot=widgets.interactive(plot_carbon, uv=uv_slider, cr=cr_slider, z=1.0)\n",
    "myplot=widgets.interactive_output(plot_carbon, {'uv':uv_slider, 'cr':cr_slider, \"z\":fixed(1.0)})\n",
    "# full_layout = widgets.VBox([sliders_box, myplot], layout=widgets.Layout(width='50%'))\n",
    "AppLayout(footer=sliders_box,\n",
    "          left_sidebar=None,\n",
    "          center=myplot,\n",
    "          right_sidebar=None,\n",
    "          header=None)"
   ]
  },
  {
   "cell_type": "code",
   "execution_count": null,
   "metadata": {},
   "outputs": [],
   "source": []
  }
 ],
 "metadata": {
  "kernelspec": {
   "display_name": "Python 3 (ipykernel)",
   "language": "python",
   "name": "python3"
  },
  "language_info": {
   "codemirror_mode": {
    "name": "ipython",
    "version": 3
   },
   "file_extension": ".py",
   "mimetype": "text/x-python",
   "name": "python",
   "nbconvert_exporter": "python",
   "pygments_lexer": "ipython3",
   "version": "3.11.4"
  }
 },
 "nbformat": 4,
 "nbformat_minor": 4
}
